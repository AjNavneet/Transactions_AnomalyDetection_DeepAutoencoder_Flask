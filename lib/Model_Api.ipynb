{
 "cells": [
  {
   "cell_type": "code",
   "execution_count": 3,
   "metadata": {},
   "outputs": [],
   "source": [
    "import requests  # Library for making HTTP requests\n",
    "import json  # Library for working with JSON data"
   ]
  },
  {
   "cell_type": "code",
   "execution_count": 5,
   "metadata": {},
   "outputs": [
    {
     "name": "stdout",
     "output_type": "stream",
     "text": [
      "{\"status\":23.127947440698133}\n",
      "\n"
     ]
    }
   ],
   "source": [
    "# Define the URL of the API endpoint you want to call\n",
    "url = 'http://0.0.0.0:5001/get_fraud_score'\n",
    "\n",
    "# Prepare the input data in the form of a dictionary\n",
    "params = {\n",
    "    'Timestamp': 297329332,\n",
    "    'Value': 1,\n",
    "    'C1': 1,\n",
    "    'C2': 1,\n",
    "    'C3': 1,\n",
    "    'C4': 1,\n",
    "    'C5': 10000,\n",
    "    'C6': 1,\n",
    "    'C7': 1,\n",
    "    'C8': 1,\n",
    "    'C9': 10,\n",
    "    'C10': 10,\n",
    "    'C11': 9,\n",
    "    'C12': 9\n",
    "}\n",
    "\n",
    "# Send an HTTP POST request to the specified URL with the JSON payload\n",
    "response = requests.post(url, data=json.dumps(params))\n",
    "\n",
    "# Print the response text received from the server\n",
    "print(response.text)\n"
   ]
  },
  {
   "cell_type": "code",
   "execution_count": null,
   "metadata": {},
   "outputs": [],
   "source": []
  }
 ],
 "metadata": {
  "kernelspec": {
   "display_name": "Python 3",
   "language": "python",
   "name": "python3"
  },
  "language_info": {
   "codemirror_mode": {
    "name": "ipython",
    "version": 3
   },
   "file_extension": ".py",
   "mimetype": "text/x-python",
   "name": "python",
   "nbconvert_exporter": "python",
   "pygments_lexer": "ipython3",
   "version": "3.8.8"
  }
 },
 "nbformat": 4,
 "nbformat_minor": 4
}
